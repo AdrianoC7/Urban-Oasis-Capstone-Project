{
 "cells": [
  {
   "cell_type": "markdown",
   "id": "b5de88cf",
   "metadata": {
    "id": "b5de88cf"
   },
   "source": [
    "### Preliminaries"
   ]
  },
  {
   "cell_type": "code",
   "execution_count": null,
   "id": "6c2bf498",
   "metadata": {
    "id": "6c2bf498"
   },
   "outputs": [],
   "source": [
    "#Import the needed libraries\n",
    "\n",
    "import geopandas as gpd\n",
    "import pandas as pd\n",
    "import numpy as np\n",
    "import seaborn as sns\n",
    "import matplotlib.pyplot as plt\n",
    "import json\n",
    "from pathlib import Path\n",
    "\n",
    "import functools\n",
    "import glob\n",
    "import gzip\n",
    "import multiprocessing\n",
    "import os\n",
    "import shutil\n",
    "import tempfile\n",
    "from typing import List, Optional, Tuple\n",
    "\n",
    "\n",
    "#import gdal\n",
    "from IPython import display\n",
    "from mpl_toolkits.axes_grid1 import make_axes_locatable\n",
    "#import s2geometry as s2\n",
    "import shapely\n",
    "#import tensorflow as tf\n",
    "import tqdm.notebook"
   ]
  },
  {
   "cell_type": "code",
   "execution_count": null,
   "id": "1dadcf58",
   "metadata": {
    "id": "1dadcf58"
   },
   "outputs": [],
   "source": [
    "#Get working directory\n",
    "os.getcwd()\n",
    "\n",
    "#Change directory if needed\n",
    "#os.chdir('C:\\\\Users\\ASUS\\Documents\\Spatial Learning')"
   ]
  },
  {
   "cell_type": "markdown",
   "id": "53b127e7",
   "metadata": {
    "id": "53b127e7"
   },
   "source": [
    "### Shapefiles and their engineering"
   ]
  },
  {
   "cell_type": "code",
   "execution_count": null,
   "id": "dcbd11a8",
   "metadata": {
    "id": "dcbd11a8"
   },
   "outputs": [],
   "source": [
    "#Import shapefiles with all of the US including islands and others using geopandas\n",
    "#Convert shapefiles to EPSG 3857\n",
    "\n",
    "# original dataset for counties and cities (might come in handy)\n",
    "us_main = gpd.read_file(r'C:/Users/ASUS/Documents/Spatial Learning/tl_2019_us_county/tl_2019_us_county.shp')\n",
    "us_main = us_main.to_crs(3857)\n",
    "uscity = gpd.read_file(r'C:/Users/ASUS/Documents/Spatial Learning/500Cities_City_11082016/CityBoundaries.shp')\n",
    "uscity = uscity.to_crs(3857)\n",
    "\n",
    "\n",
    "#State Shapefile boundaries\n",
    "us = gpd.read_file(r'C:/Users/ASUS/Documents/Spatial Learning/DS4A/T51/t51/us_states.shp')\n",
    "us = us.to_crs(3857)\n",
    "\n",
    "#US boundary shapefile - to clip the data\n",
    "usBound = gpd.read_file(r'C:/Users/ASUS/Documents/Spatial Learning/DS4A/T51/t51/us_dis.shp')\n",
    "usBound = usBound.to_crs(3857)"
   ]
  },
  {
   "cell_type": "code",
   "execution_count": null,
   "id": "c0a11f2a",
   "metadata": {
    "id": "c0a11f2a",
    "outputId": "470d8dc1-0a0c-4ee1-d08a-65a530fc5e63"
   },
   "outputs": [
    {
     "name": "stdout",
     "output_type": "stream",
     "text": [
      "Shapefile 0: EPSG:3857\n",
      "Shapefile 1: EPSG:3857\n",
      "Shapefile 2: EPSG:3857\n",
      "Shapefile 3: EPSG:3857\n",
      "Shapefile 3: EPSG:3857 Done\n"
     ]
    }
   ],
   "source": [
    "#Check Coordinate reference system and convert to projected if not matching\n",
    "# Set the list of shapefiles that you want to process\n",
    "shapefile_list = [us_main, us, usBound, uscity]\n",
    "\n",
    "# Iterate through the list of shapefiles\n",
    "for i, df in enumerate(shapefile_list):\n",
    "    # Get the CRS of the GeoDataFrame as a string\n",
    "    crs = df.crs.to_string()\n",
    "\n",
    "    # Print the name of the GeoDataFrame and its CRS\n",
    "    print(f'Shapefile {i}: {crs}')\n",
    "\n",
    "    # Check if the CRS is EPSG:3857\n",
    "    if crs != 3857:\n",
    "        # If the CRS is not EPSG:3857, convert it\n",
    "        df = df.to_crs(epsg=3857)\n",
    "\n",
    "print(f'Shapefile {i}: {crs} Done')"
   ]
  },
  {
   "cell_type": "code",
   "execution_count": null,
   "id": "f5e1b716",
   "metadata": {
    "id": "f5e1b716",
    "outputId": "27ae9a3d-f629-46dd-ebbc-81dd0b09cf51"
   },
   "outputs": [
    {
     "name": "stderr",
     "output_type": "stream",
     "text": [
      "C:\\Users\\ASUS\\anaconda3\\envs\\geoai\\lib\\site-packages\\geopandas\\tools\\clip.py:67: FutureWarning: In a future version, `df.iloc[:, i] = newvals` will attempt to set the values inplace instead of always setting a new array. To retain the old behavior, use either `df[df.columns[i]] = newvals` or, if columns are non-unique, `df.isetitem(i, newvals)`\n",
      "  clipped.loc[\n"
     ]
    }
   ],
   "source": [
    "#clip the data to show only continental US\n",
    "us_county = gpd.clip(us_main, usBound) # - clip US Counties\n",
    "uscityBound = gpd.clip(uscity, usBound)# - clip us cities"
   ]
  },
  {
   "cell_type": "code",
   "execution_count": null,
   "id": "2462386e",
   "metadata": {
    "id": "2462386e",
    "outputId": "499aa222-2913-484f-88f0-84b206993221"
   },
   "outputs": [
    {
     "data": {
      "text/plain": [
       "<AxesSubplot: >"
      ]
     },
     "execution_count": 196,
     "metadata": {},
     "output_type": "execute_result"
    },
    {
     "data": {
      "image/png": "[encoded data removed]",
      "text/plain": [
       "<Figure size 640x480 with 4 Axes>"
      ]
     },
     "metadata": {},
     "output_type": "display_data"
    }
   ],
   "source": [
    "#plot data to visualize\n",
    "fig, axes = plt.subplots(nrows = 1, ncols = 4)\n",
    "#plt.figure(figsize=(25,25))\n",
    "\n",
    "us.boundary.plot(ax=axes[0])\n",
    "usBound.boundary.plot(ax=axes[1])\n",
    "us_county.boundary.plot(ax=axes[2])\n",
    "uscityBound.plot(color='red', ax=axes[3])"
   ]
  },
  {
   "cell_type": "markdown",
   "id": "122ae497",
   "metadata": {
    "id": "122ae497"
   },
   "source": [
    "### Feature engineering to clean dataset and format"
   ]
  },
  {
   "cell_type": "code",
   "execution_count": null,
   "id": "a6c615a8",
   "metadata": {
    "id": "a6c615a8"
   },
   "outputs": [],
   "source": [
    "#US County Dataset\n",
    "\n",
    "us_county.columns = us_county.columns.str.lower() #convert all column names to lower case\n",
    "\n",
    "#drop irrelevant column and rename retained\n",
    "us_county = us_county.drop(['countyns','lsad', 'classfp', 'mtfcc', 'csafp', 'cbsafp', 'metdivfp', 'funcstat',\n",
    "      'aland', 'awater', 'intptlat', 'intptlon'], axis=1)\n",
    "us_county = us_county.rename(columns={'name': 'county_name', 'namelsad': 'countyname', 'countyfp': 'countyfips', 'statefp': 'statefips'})\n",
    "us_county.sort_values(by='county_name')\n",
    "\n",
    "\n",
    "us_county['countyfips'] = us_county['countyfips'].astype(int)"
   ]
  },
  {
   "cell_type": "code",
   "execution_count": null,
   "id": "27d7ab3f",
   "metadata": {
    "id": "27d7ab3f",
    "outputId": "b1fdf14e-161a-4e62-8f46-a442d548d3a0"
   },
   "outputs": [
    {
     "data": {
      "text/html": [
       "<div>\n",
       "<style scoped>\n",
       "    .dataframe tbody tr th:only-of-type {\n",
       "        vertical-align: middle;\n",
       "    }\n",
       "\n",
       "    .dataframe tbody tr th {\n",
       "        vertical-align: top;\n",
       "    }\n",
       "\n",
       "    .dataframe thead th {\n",
       "        text-align: right;\n",
       "    }\n",
       "</style>\n",
       "<table border=\"1\" class=\"dataframe\">\n",
       "  <thead>\n",
       "    <tr style=\"text-align: right;\">\n",
       "      <th></th>\n",
       "      <th>statefips</th>\n",
       "      <th>countyfips</th>\n",
       "      <th>geoid</th>\n",
       "      <th>county_name</th>\n",
       "      <th>countyname</th>\n",
       "      <th>geometry</th>\n",
       "    </tr>\n",
       "  </thead>\n",
       "  <tbody>\n",
       "    <tr>\n",
       "      <th>2772</th>\n",
       "      <td>48</td>\n",
       "      <td>43</td>\n",
       "      <td>48043</td>\n",
       "      <td>Brewster</td>\n",
       "      <td>Brewster County</td>\n",
       "      <td>POLYGON ((-11502123.107 3579104.603, -11501882...</td>\n",
       "    </tr>\n",
       "    <tr>\n",
       "      <th>1240</th>\n",
       "      <td>48</td>\n",
       "      <td>377</td>\n",
       "      <td>48377</td>\n",
       "      <td>Presidio</td>\n",
       "      <td>Presidio County</td>\n",
       "      <td>POLYGON ((-11638023.725 3467240.127, -11638024...</td>\n",
       "    </tr>\n",
       "    <tr>\n",
       "      <th>2140</th>\n",
       "      <td>48</td>\n",
       "      <td>443</td>\n",
       "      <td>48443</td>\n",
       "      <td>Terrell</td>\n",
       "      <td>Terrell County</td>\n",
       "      <td>POLYGON ((-11375546.514 3484137.122, -11375550...</td>\n",
       "    </tr>\n",
       "    <tr>\n",
       "      <th>2512</th>\n",
       "      <td>48</td>\n",
       "      <td>105</td>\n",
       "      <td>48105</td>\n",
       "      <td>Crockett</td>\n",
       "      <td>Crockett County</td>\n",
       "      <td>POLYGON ((-11304282.883 3540645.340, -11304322...</td>\n",
       "    </tr>\n",
       "    <tr>\n",
       "      <th>1335</th>\n",
       "      <td>48</td>\n",
       "      <td>371</td>\n",
       "      <td>48371</td>\n",
       "      <td>Pecos</td>\n",
       "      <td>Pecos County</td>\n",
       "      <td>POLYGON ((-11494007.877 3648115.499, -11493985...</td>\n",
       "    </tr>\n",
       "  </tbody>\n",
       "</table>\n",
       "</div>"
      ],
      "text/plain": [
       "     statefips  countyfips  geoid county_name       countyname  \\\n",
       "2772        48          43  48043    Brewster  Brewster County   \n",
       "1240        48         377  48377    Presidio  Presidio County   \n",
       "2140        48         443  48443     Terrell   Terrell County   \n",
       "2512        48         105  48105    Crockett  Crockett County   \n",
       "1335        48         371  48371       Pecos     Pecos County   \n",
       "\n",
       "                                               geometry  \n",
       "2772  POLYGON ((-11502123.107 3579104.603, -11501882...  \n",
       "1240  POLYGON ((-11638023.725 3467240.127, -11638024...  \n",
       "2140  POLYGON ((-11375546.514 3484137.122, -11375550...  \n",
       "2512  POLYGON ((-11304282.883 3540645.340, -11304322...  \n",
       "1335  POLYGON ((-11494007.877 3648115.499, -11493985...  "
      ]
     },
     "execution_count": 201,
     "metadata": {},
     "output_type": "execute_result"
    }
   ],
   "source": [
    "us_county.head(5)"
   ]
  },
  {
   "cell_type": "code",
   "execution_count": null,
   "id": "4a29accb",
   "metadata": {
    "id": "4a29accb",
    "outputId": "e6147ea5-e8b9-4f3a-8bc4-518acc4c30ff"
   },
   "outputs": [
    {
     "data": {
      "text/html": [
       "<div>\n",
       "<style scoped>\n",
       "    .dataframe tbody tr th:only-of-type {\n",
       "        vertical-align: middle;\n",
       "    }\n",
       "\n",
       "    .dataframe tbody tr th {\n",
       "        vertical-align: top;\n",
       "    }\n",
       "\n",
       "    .dataframe thead th {\n",
       "        text-align: right;\n",
       "    }\n",
       "</style>\n",
       "<table border=\"1\" class=\"dataframe\">\n",
       "  <thead>\n",
       "    <tr style=\"text-align: right;\">\n",
       "      <th></th>\n",
       "      <th>city</th>\n",
       "      <th>state_id</th>\n",
       "      <th>state_name</th>\n",
       "      <th>county_name</th>\n",
       "      <th>lat</th>\n",
       "      <th>lng</th>\n",
       "      <th>Year 2010</th>\n",
       "      <th>AverageTemperature</th>\n",
       "    </tr>\n",
       "  </thead>\n",
       "  <tbody>\n",
       "    <tr>\n",
       "      <th>0</th>\n",
       "      <td>Chandler</td>\n",
       "      <td>AZ</td>\n",
       "      <td>Arizona</td>\n",
       "      <td>Maricopa</td>\n",
       "      <td>33.0</td>\n",
       "      <td>112.0</td>\n",
       "      <td>2010-01-01</td>\n",
       "      <td>53.2724</td>\n",
       "    </tr>\n",
       "    <tr>\n",
       "      <th>1</th>\n",
       "      <td>Chandler</td>\n",
       "      <td>AZ</td>\n",
       "      <td>Arizona</td>\n",
       "      <td>Maricopa</td>\n",
       "      <td>33.0</td>\n",
       "      <td>112.0</td>\n",
       "      <td>2010-02-01</td>\n",
       "      <td>54.8510</td>\n",
       "    </tr>\n",
       "  </tbody>\n",
       "</table>\n",
       "</div>"
      ],
      "text/plain": [
       "       city state_id state_name county_name   lat    lng   Year 2010  \\\n",
       "0  Chandler       AZ    Arizona    Maricopa  33.0  112.0  2010-01-01   \n",
       "1  Chandler       AZ    Arizona    Maricopa  33.0  112.0  2010-02-01   \n",
       "\n",
       "   AverageTemperature  \n",
       "0             53.2724  \n",
       "1             54.8510  "
      ]
     },
     "execution_count": 202,
     "metadata": {},
     "output_type": "execute_result"
    }
   ],
   "source": [
    "#US Cities with Average temperature\n",
    "\n",
    "uscitiestemp = pd.read_csv('C:\\\\Users\\\\ASUS\\\\Documents\\\\Spatial Learning\\\\DS4A\\\\cities_county_temp.csv')\n",
    "uscitiestemp = uscitiestemp.drop(columns='Unnamed: 0')\n",
    "uscitiestemp.head(2)"
   ]
  },
  {
   "cell_type": "markdown",
   "id": "c7f74f87",
   "metadata": {
    "id": "c7f74f87"
   },
   "source": [
    "### Clean the Water Data"
   ]
  },
  {
   "cell_type": "code",
   "execution_count": null,
   "id": "d831f063",
   "metadata": {
    "id": "d831f063",
    "outputId": "d54a521a-758d-4764-c9e2-f47141113a00"
   },
   "outputs": [
    {
     "name": "stderr",
     "output_type": "stream",
     "text": [
      "C:\\Users\\ASUS\\AppData\\Local\\Temp\\ipykernel_30072\\881267194.py:4: FutureWarning: The error_bad_lines argument has been deprecated and will be removed in a future version. Use on_bad_lines in the future.\n",
      "\n",
      "\n",
      "  water_2015 = pd.read_csv('C:/Users/ASUS/Documents/Spatial Learning/DS4A/Jose/Using/usco2015v2.0.csv', error_bad_lines=False, sep = \",\")\n"
     ]
    },
    {
     "data": {
      "text/html": [
       "<div>\n",
       "<style scoped>\n",
       "    .dataframe tbody tr th:only-of-type {\n",
       "        vertical-align: middle;\n",
       "    }\n",
       "\n",
       "    .dataframe tbody tr th {\n",
       "        vertical-align: top;\n",
       "    }\n",
       "\n",
       "    .dataframe thead th {\n",
       "        text-align: right;\n",
       "    }\n",
       "</style>\n",
       "<table border=\"1\" class=\"dataframe\">\n",
       "  <thead>\n",
       "    <tr style=\"text-align: right;\">\n",
       "      <th></th>\n",
       "      <th>state_id</th>\n",
       "      <th>statefips</th>\n",
       "      <th>county_name</th>\n",
       "      <th>countyfips</th>\n",
       "      <th>fips</th>\n",
       "      <th>year</th>\n",
       "      <th>population</th>\n",
       "      <th>population_served</th>\n",
       "      <th>total_withdrawals</th>\n",
       "      <th>public_supply</th>\n",
       "      <th>totalirrig_withdraw</th>\n",
       "      <th>totalirrigated_acres</th>\n",
       "    </tr>\n",
       "  </thead>\n",
       "  <tbody>\n",
       "    <tr>\n",
       "      <th>0</th>\n",
       "      <td>AL</td>\n",
       "      <td>1</td>\n",
       "      <td>Autauga</td>\n",
       "      <td>1</td>\n",
       "      <td>1001</td>\n",
       "      <td>2015</td>\n",
       "      <td>55.347</td>\n",
       "      <td>48.998</td>\n",
       "      <td>56.41</td>\n",
       "      <td>3.64</td>\n",
       "      <td>3.52</td>\n",
       "      <td>2.26</td>\n",
       "    </tr>\n",
       "    <tr>\n",
       "      <th>1</th>\n",
       "      <td>AL</td>\n",
       "      <td>1</td>\n",
       "      <td>Baldwin</td>\n",
       "      <td>3</td>\n",
       "      <td>1003</td>\n",
       "      <td>2015</td>\n",
       "      <td>203.709</td>\n",
       "      <td>174.907</td>\n",
       "      <td>84.70</td>\n",
       "      <td>23.67</td>\n",
       "      <td>58.28</td>\n",
       "      <td>20.66</td>\n",
       "    </tr>\n",
       "    <tr>\n",
       "      <th>2</th>\n",
       "      <td>AL</td>\n",
       "      <td>1</td>\n",
       "      <td>Barbour</td>\n",
       "      <td>5</td>\n",
       "      <td>1005</td>\n",
       "      <td>2015</td>\n",
       "      <td>26.489</td>\n",
       "      <td>24.587</td>\n",
       "      <td>9.02</td>\n",
       "      <td>3.23</td>\n",
       "      <td>2.96</td>\n",
       "      <td>4.53</td>\n",
       "    </tr>\n",
       "    <tr>\n",
       "      <th>3</th>\n",
       "      <td>AL</td>\n",
       "      <td>1</td>\n",
       "      <td>Bibb</td>\n",
       "      <td>7</td>\n",
       "      <td>1007</td>\n",
       "      <td>2015</td>\n",
       "      <td>22.583</td>\n",
       "      <td>20.947</td>\n",
       "      <td>5.87</td>\n",
       "      <td>5.18</td>\n",
       "      <td>0.19</td>\n",
       "      <td>0.16</td>\n",
       "    </tr>\n",
       "    <tr>\n",
       "      <th>4</th>\n",
       "      <td>AL</td>\n",
       "      <td>1</td>\n",
       "      <td>Blount</td>\n",
       "      <td>9</td>\n",
       "      <td>1009</td>\n",
       "      <td>2015</td>\n",
       "      <td>57.673</td>\n",
       "      <td>44.815</td>\n",
       "      <td>60.07</td>\n",
       "      <td>56.86</td>\n",
       "      <td>1.08</td>\n",
       "      <td>0.94</td>\n",
       "    </tr>\n",
       "  </tbody>\n",
       "</table>\n",
       "</div>"
      ],
      "text/plain": [
       "  state_id  statefips county_name  countyfips  fips  year  population  \\\n",
       "0       AL          1     Autauga           1  1001  2015      55.347   \n",
       "1       AL          1     Baldwin           3  1003  2015     203.709   \n",
       "2       AL          1     Barbour           5  1005  2015      26.489   \n",
       "3       AL          1        Bibb           7  1007  2015      22.583   \n",
       "4       AL          1      Blount           9  1009  2015      57.673   \n",
       "\n",
       "   population_served  total_withdrawals  public_supply  totalirrig_withdraw  \\\n",
       "0             48.998              56.41           3.64                 3.52   \n",
       "1            174.907              84.70          23.67                58.28   \n",
       "2             24.587               9.02           3.23                 2.96   \n",
       "3             20.947               5.87           5.18                 0.19   \n",
       "4             44.815              60.07          56.86                 1.08   \n",
       "\n",
       "   totalirrigated_acres  \n",
       "0                  2.26  \n",
       "1                 20.66  \n",
       "2                  4.53  \n",
       "3                  0.16  \n",
       "4                  0.94  "
      ]
     },
     "execution_count": 203,
     "metadata": {},
     "output_type": "execute_result"
    }
   ],
   "source": [
    "#Water Dataset for 2015\n",
    "\n",
    "#Import data\n",
    "water_2015 = pd.read_csv('C:/Users/ASUS/Documents/Spatial Learning/DS4A/Jose/Using/usco2015v2.0.csv', error_bad_lines=False, sep = \",\")\n",
    "\n",
    "#select relevant columns, rename column names, convert column names to lower cases and remove extras in county name\n",
    "water_us = water_2015[['STATE', 'STATEFIPS', 'COUNTY', 'COUNTYFIPS', 'FIPS', 'YEAR', 'TP-TotPop', 'PS-TOPop', 'TO-Wtotl', 'PS-Wtotl', 'IR-WFrTo', 'IR-IrTot',]]\n",
    "water_us = water_us.rename(columns = {'STATE': 'state_id', 'COUNTY': 'county_name', 'TP-TotPop':'population', 'PS-TOPop':'population_served', 'TO-Wtotl':'total_withdrawals', 'PS-Wtotl':'public_supply', 'IR-WFrTo':'Totalirrig_withdraw', 'IR-IrTot':'Totalirrigated_acres'})\n",
    "\n",
    "water_us.columns = water_us.columns.str.lower()\n",
    "water_us['county_name'] = water_us['county_name'].str.replace(' County', '')\n",
    "\n",
    "water_us.head()"
   ]
  },
  {
   "cell_type": "code",
   "execution_count": null,
   "id": "39781db9",
   "metadata": {
    "id": "39781db9"
   },
   "outputs": [],
   "source": [
    "data.to_csv('state_data.csv')"
   ]
  },
  {
   "cell_type": "markdown",
   "id": "1c4db1da",
   "metadata": {
    "id": "1c4db1da"
   },
   "source": [
    "# Join Water data to cities and temperature"
   ]
  },
  {
   "cell_type": "code",
   "execution_count": null,
   "id": "11f29c5e",
   "metadata": {
    "id": "11f29c5e",
    "outputId": "d81afbbc-94cf-4e6f-f053-ee86365bd324"
   },
   "outputs": [
    {
     "name": "stdout",
     "output_type": "stream",
     "text": [
      "      statefips_x  countyfips_x  geoid county_name         countyname  \\\n",
      "0              04            23  04023  Santa Cruz  Santa Cruz County   \n",
      "1              04            23  04023  Santa Cruz  Santa Cruz County   \n",
      "2              04            23  04023  Santa Cruz  Santa Cruz County   \n",
      "3              04            23  04023  Santa Cruz  Santa Cruz County   \n",
      "4              04            23  04023  Santa Cruz  Santa Cruz County   \n",
      "...           ...           ...    ...         ...                ...   \n",
      "45811          41            51  41051   Multnomah   Multnomah County   \n",
      "45812          41            51  41051   Multnomah   Multnomah County   \n",
      "45813          41            51  41051   Multnomah   Multnomah County   \n",
      "45814          41            51  41051   Multnomah   Multnomah County   \n",
      "45815          41            51  41051   Multnomah   Multnomah County   \n",
      "\n",
      "                                                geometry      city state_id_x  \\\n",
      "0      POLYGON ((-12349588.282 3727492.256, -12349542...   Nogales         AZ   \n",
      "1      POLYGON ((-12349588.282 3727492.256, -12349542...   Nogales         AZ   \n",
      "2      POLYGON ((-12349588.282 3727492.256, -12349542...   Nogales         AZ   \n",
      "3      POLYGON ((-12349588.282 3727492.256, -12349542...   Nogales         AZ   \n",
      "4      POLYGON ((-12349588.282 3727492.256, -12349542...   Nogales         AZ   \n",
      "...                                                  ...       ...        ...   \n",
      "45811  POLYGON ((-13677636.879 5717468.265, -13678197...  Portland         OR   \n",
      "45812  POLYGON ((-13677636.879 5717468.265, -13678197...  Portland         OR   \n",
      "45813  POLYGON ((-13677636.879 5717468.265, -13678197...  Portland         OR   \n",
      "45814  POLYGON ((-13677636.879 5717468.265, -13678197...  Portland         OR   \n",
      "45815  POLYGON ((-13677636.879 5717468.265, -13678197...  Portland         OR   \n",
      "\n",
      "      state_name   lat  ...  statefips_y countyfips_y   fips  year  \\\n",
      "0        Arizona  31.0  ...            4           23   4023  2015   \n",
      "1        Arizona  31.0  ...            6           87   6087  2015   \n",
      "2        Arizona  31.0  ...            4           23   4023  2015   \n",
      "3        Arizona  31.0  ...            6           87   6087  2015   \n",
      "4        Arizona  31.0  ...            4           23   4023  2015   \n",
      "...          ...   ...  ...          ...          ...    ...   ...   \n",
      "45811     Oregon  46.0  ...           41           51  41051  2015   \n",
      "45812     Oregon  46.0  ...           41           51  41051  2015   \n",
      "45813     Oregon  46.0  ...           41           51  41051  2015   \n",
      "45814     Oregon  46.0  ...           41           51  41051  2015   \n",
      "45815     Oregon  46.0  ...           41           51  41051  2015   \n",
      "\n",
      "       population  population_served  total_withdrawals  public_supply  \\\n",
      "0          46.461             41.501              13.22           5.17   \n",
      "1         274.146            247.932              58.65          18.45   \n",
      "2          46.461             41.501              13.22           5.17   \n",
      "3         274.146            247.932              58.65          18.45   \n",
      "4          46.461             41.501              13.22           5.17   \n",
      "...           ...                ...                ...            ...   \n",
      "45811     790.294            759.602              58.04          14.72   \n",
      "45812     790.294            759.602              58.04          14.72   \n",
      "45813     790.294            759.602              58.04          14.72   \n",
      "45814     790.294            759.602              58.04          14.72   \n",
      "45815     790.294            759.602              58.04          14.72   \n",
      "\n",
      "       totalirrig_withdraw  totalirrigated_acres  \n",
      "0                     6.97                  2.32  \n",
      "1                    31.34                 22.71  \n",
      "2                     6.97                  2.32  \n",
      "3                    31.34                 22.71  \n",
      "4                     6.97                  2.32  \n",
      "...                    ...                   ...  \n",
      "45811                27.28                  9.87  \n",
      "45812                27.28                  9.87  \n",
      "45813                27.28                  9.87  \n",
      "45814                27.28                  9.87  \n",
      "45815                27.28                  9.87  \n",
      "\n",
      "[45816 rows x 24 columns]\n"
     ]
    }
   ],
   "source": [
    "# Merge the GeoDataFrames using the specified columns\n",
    "merged_df = pd.merge(us_county, uscitiestemp, on='county_name', how='inner')\n",
    "t51 = pd.merge(merged_df, water_us, on='county_name')\n",
    "\n",
    "# Print the resulting GeoDataFrame\n",
    "print(t51)"
   ]
  },
  {
   "cell_type": "code",
   "execution_count": null,
   "id": "1ce1871b",
   "metadata": {
    "id": "1ce1871b",
    "outputId": "13fe3fce-55ce-4ebf-b9ba-0b6affd51833"
   },
   "outputs": [
    {
     "data": {
      "text/html": [
       "<div>\n",
       "<style scoped>\n",
       "    .dataframe tbody tr th:only-of-type {\n",
       "        vertical-align: middle;\n",
       "    }\n",
       "\n",
       "    .dataframe tbody tr th {\n",
       "        vertical-align: top;\n",
       "    }\n",
       "\n",
       "    .dataframe thead th {\n",
       "        text-align: right;\n",
       "    }\n",
       "</style>\n",
       "<table border=\"1\" class=\"dataframe\">\n",
       "  <thead>\n",
       "    <tr style=\"text-align: right;\">\n",
       "      <th></th>\n",
       "      <th>statefips_x</th>\n",
       "      <th>countyfips_x</th>\n",
       "      <th>geoid</th>\n",
       "      <th>county_name</th>\n",
       "      <th>countyname</th>\n",
       "      <th>geometry</th>\n",
       "      <th>city</th>\n",
       "      <th>state_id_x</th>\n",
       "      <th>state_name</th>\n",
       "      <th>lat</th>\n",
       "      <th>...</th>\n",
       "      <th>statefips_y</th>\n",
       "      <th>countyfips_y</th>\n",
       "      <th>fips</th>\n",
       "      <th>year</th>\n",
       "      <th>population</th>\n",
       "      <th>population_served</th>\n",
       "      <th>total_withdrawals</th>\n",
       "      <th>public_supply</th>\n",
       "      <th>totalirrig_withdraw</th>\n",
       "      <th>totalirrigated_acres</th>\n",
       "    </tr>\n",
       "  </thead>\n",
       "  <tbody>\n",
       "    <tr>\n",
       "      <th>0</th>\n",
       "      <td>04</td>\n",
       "      <td>23</td>\n",
       "      <td>04023</td>\n",
       "      <td>Santa Cruz</td>\n",
       "      <td>Santa Cruz County</td>\n",
       "      <td>POLYGON ((-12349588.282 3727492.256, -12349542...</td>\n",
       "      <td>Nogales</td>\n",
       "      <td>AZ</td>\n",
       "      <td>Arizona</td>\n",
       "      <td>31.0</td>\n",
       "      <td>...</td>\n",
       "      <td>4</td>\n",
       "      <td>23</td>\n",
       "      <td>4023</td>\n",
       "      <td>2015</td>\n",
       "      <td>46.461</td>\n",
       "      <td>41.501</td>\n",
       "      <td>13.22</td>\n",
       "      <td>5.17</td>\n",
       "      <td>6.97</td>\n",
       "      <td>2.32</td>\n",
       "    </tr>\n",
       "    <tr>\n",
       "      <th>1</th>\n",
       "      <td>04</td>\n",
       "      <td>23</td>\n",
       "      <td>04023</td>\n",
       "      <td>Santa Cruz</td>\n",
       "      <td>Santa Cruz County</td>\n",
       "      <td>POLYGON ((-12349588.282 3727492.256, -12349542...</td>\n",
       "      <td>Nogales</td>\n",
       "      <td>AZ</td>\n",
       "      <td>Arizona</td>\n",
       "      <td>31.0</td>\n",
       "      <td>...</td>\n",
       "      <td>6</td>\n",
       "      <td>87</td>\n",
       "      <td>6087</td>\n",
       "      <td>2015</td>\n",
       "      <td>274.146</td>\n",
       "      <td>247.932</td>\n",
       "      <td>58.65</td>\n",
       "      <td>18.45</td>\n",
       "      <td>31.34</td>\n",
       "      <td>22.71</td>\n",
       "    </tr>\n",
       "  </tbody>\n",
       "</table>\n",
       "<p>2 rows × 24 columns</p>\n",
       "</div>"
      ],
      "text/plain": [
       "  statefips_x  countyfips_x  geoid county_name         countyname  \\\n",
       "0          04            23  04023  Santa Cruz  Santa Cruz County   \n",
       "1          04            23  04023  Santa Cruz  Santa Cruz County   \n",
       "\n",
       "                                            geometry     city state_id_x  \\\n",
       "0  POLYGON ((-12349588.282 3727492.256, -12349542...  Nogales         AZ   \n",
       "1  POLYGON ((-12349588.282 3727492.256, -12349542...  Nogales         AZ   \n",
       "\n",
       "  state_name   lat  ...  statefips_y countyfips_y  fips  year  population  \\\n",
       "0    Arizona  31.0  ...            4           23  4023  2015      46.461   \n",
       "1    Arizona  31.0  ...            6           87  6087  2015     274.146   \n",
       "\n",
       "   population_served  total_withdrawals  public_supply  totalirrig_withdraw  \\\n",
       "0             41.501              13.22           5.17                 6.97   \n",
       "1            247.932              58.65          18.45                31.34   \n",
       "\n",
       "   totalirrigated_acres  \n",
       "0                  2.32  \n",
       "1                 22.71  \n",
       "\n",
       "[2 rows x 24 columns]"
      ]
     },
     "execution_count": 214,
     "metadata": {},
     "output_type": "execute_result"
    }
   ],
   "source": [
    "t51.head(2)"
   ]
  },
  {
   "cell_type": "code",
   "execution_count": null,
   "id": "044e5d1a",
   "metadata": {
    "id": "044e5d1a",
    "outputId": "aebb2125-2a81-46ba-bd4d-c0da1cf2c946"
   },
   "outputs": [
    {
     "data": {
      "text/html": [
       "<div>\n",
       "<style scoped>\n",
       "    .dataframe tbody tr th:only-of-type {\n",
       "        vertical-align: middle;\n",
       "    }\n",
       "\n",
       "    .dataframe tbody tr th {\n",
       "        vertical-align: top;\n",
       "    }\n",
       "\n",
       "    .dataframe thead th {\n",
       "        text-align: right;\n",
       "    }\n",
       "</style>\n",
       "<table border=\"1\" class=\"dataframe\">\n",
       "  <thead>\n",
       "    <tr style=\"text-align: right;\">\n",
       "      <th></th>\n",
       "      <th>county_name</th>\n",
       "      <th>geometry</th>\n",
       "      <th>city</th>\n",
       "      <th>state_id_x</th>\n",
       "      <th>state_name</th>\n",
       "      <th>lat</th>\n",
       "      <th>lng</th>\n",
       "      <th>Year 2010</th>\n",
       "      <th>AverageTemperature</th>\n",
       "      <th>year</th>\n",
       "      <th>population</th>\n",
       "      <th>population_served</th>\n",
       "      <th>total_withdrawals</th>\n",
       "      <th>public_supply</th>\n",
       "      <th>totalirrig_withdraw</th>\n",
       "      <th>totalirrigated_acres</th>\n",
       "    </tr>\n",
       "  </thead>\n",
       "  <tbody>\n",
       "    <tr>\n",
       "      <th>0</th>\n",
       "      <td>Santa Cruz</td>\n",
       "      <td>POLYGON ((-12349588.282 3727492.256, -12349542...</td>\n",
       "      <td>Nogales</td>\n",
       "      <td>AZ</td>\n",
       "      <td>Arizona</td>\n",
       "      <td>31.0</td>\n",
       "      <td>111.0</td>\n",
       "      <td>2010-01-01</td>\n",
       "      <td>49.3754</td>\n",
       "      <td>2015</td>\n",
       "      <td>46.461</td>\n",
       "      <td>41.501</td>\n",
       "      <td>13.22</td>\n",
       "      <td>5.17</td>\n",
       "      <td>6.97</td>\n",
       "      <td>2.32</td>\n",
       "    </tr>\n",
       "    <tr>\n",
       "      <th>1</th>\n",
       "      <td>Santa Cruz</td>\n",
       "      <td>POLYGON ((-12349588.282 3727492.256, -12349542...</td>\n",
       "      <td>Nogales</td>\n",
       "      <td>AZ</td>\n",
       "      <td>Arizona</td>\n",
       "      <td>31.0</td>\n",
       "      <td>111.0</td>\n",
       "      <td>2010-01-01</td>\n",
       "      <td>49.3754</td>\n",
       "      <td>2015</td>\n",
       "      <td>274.146</td>\n",
       "      <td>247.932</td>\n",
       "      <td>58.65</td>\n",
       "      <td>18.45</td>\n",
       "      <td>31.34</td>\n",
       "      <td>22.71</td>\n",
       "    </tr>\n",
       "  </tbody>\n",
       "</table>\n",
       "</div>"
      ],
      "text/plain": [
       "  county_name                                           geometry     city  \\\n",
       "0  Santa Cruz  POLYGON ((-12349588.282 3727492.256, -12349542...  Nogales   \n",
       "1  Santa Cruz  POLYGON ((-12349588.282 3727492.256, -12349542...  Nogales   \n",
       "\n",
       "  state_id_x state_name   lat    lng   Year 2010  AverageTemperature  year  \\\n",
       "0         AZ    Arizona  31.0  111.0  2010-01-01             49.3754  2015   \n",
       "1         AZ    Arizona  31.0  111.0  2010-01-01             49.3754  2015   \n",
       "\n",
       "   population  population_served  total_withdrawals  public_supply  \\\n",
       "0      46.461             41.501              13.22           5.17   \n",
       "1     274.146            247.932              58.65          18.45   \n",
       "\n",
       "   totalirrig_withdraw  totalirrigated_acres  \n",
       "0                 6.97                  2.32  \n",
       "1                31.34                 22.71  "
      ]
     },
     "execution_count": 211,
     "metadata": {},
     "output_type": "execute_result"
    }
   ],
   "source": [
    "#Drop repetitive columns\n",
    "t51 = t51.drop(columns=['statefips_x', 'countyfips_x', 'geoid', 'countyname', 'state_id_y', 'statefips_y', 'countyfips_y', 'fips'], axis=1)\n",
    "t51.head(2)"
   ]
  },
  {
   "cell_type": "code",
   "execution_count": null,
   "id": "df5a75c3",
   "metadata": {
    "id": "df5a75c3",
    "outputId": "e8c93905-b92c-4e66-8830-b43c4d364fcb"
   },
   "outputs": [
    {
     "data": {
      "image/png": "[encoded data removed]",
      "text/plain": [
       "<Figure size 1000x1000 with 7 Axes>"
      ]
     },
     "metadata": {},
     "output_type": "display_data"
    }
   ],
   "source": [
    "#plot the map on temperature, population and total withdrawals\n",
    "\n",
    "# Create a figure with two rows and two columns\n",
    "fig, axs = plt.subplots(2, 2, figsize=(10, 10))\n",
    "\n",
    "# Set the titles for each subplot\n",
    "titles = ['Temperature', 'Population', 'Total Withdrawals', 'State Name']\n",
    "\n",
    "# Iterate through the subplots\n",
    "for ax, col, title in zip(axs.flat, ['AverageTemperature', 'population', 'total_withdrawals', 'state_name'], titles):\n",
    "    # Create a map for the current subplot\n",
    "    t51.plot(column=col, ax=ax, legend=True, cmap='viridis')\n",
    "    ax.set_title(title)\n",
    "\n",
    "# Show the plot\n",
    "plt.show()\n"
   ]
  },
  {
   "cell_type": "code",
   "execution_count": null,
   "id": "02c9c046",
   "metadata": {
    "id": "02c9c046",
    "outputId": "0859fe1b-9e91-4bf7-f149-5fa7a2ce0f63"
   },
   "outputs": [
    {
     "data": {
      "text/plain": [
       "<AxesSubplot: >"
      ]
     },
     "execution_count": 217,
     "metadata": {},
     "output_type": "execute_result"
    },
    {
     "data": {
      "image/png": "[encoded data removed]",
      "text/plain": [
       "<Figure size 640x480 with 2 Axes>"
      ]
     },
     "metadata": {},
     "output_type": "display_data"
    }
   ],
   "source": [
    "t51.plot(column='AverageTemperature', cmap='Reds', legend=True)"
   ]
  },
  {
   "cell_type": "code",
   "execution_count": null,
   "id": "8b7c9a5d",
   "metadata": {
    "id": "8b7c9a5d"
   },
   "outputs": [],
   "source": [
    "data = pd.merge(water_us, uscitiestemp, on='state_id', how='inner')\n",
    "#data.groupby('city').agg()"
   ]
  },
  {
   "cell_type": "code",
   "execution_count": null,
   "id": "431f7223",
   "metadata": {
    "id": "431f7223"
   },
   "outputs": [],
   "source": [
    "data.drop(columns='Unnamed: 0', inplace=True)"
   ]
  },
  {
   "cell_type": "code",
   "execution_count": null,
   "id": "78c448d1",
   "metadata": {
    "id": "78c448d1"
   },
   "outputs": [],
   "source": [
    "#Import the temperature dataset\n",
    "temp = pd.read_csv('C:\\\\Users\\\\ASUS\\\\Documents\\\\Spatial Learning\\\\DS4A\\\\glt_us_cities_2010.csv')\n",
    "temp = temp.set_index('Year')\n",
    "temp = temp.reset_index()\n",
    "\n",
    "#Use the describe() function to get the mean of the data and then transpose the dataset\n",
    "cities_temp = temp.describe()\n",
    "cities_temp = cities_temp.transpose()\n",
    "\n",
    "#drop irrelevant columns, rename to tempperature, set index to city and reset index\n",
    "cities_temp = cities_temp.drop(columns=['count', 'std', 'min', '25%', '50%', '75%', 'max'])\n",
    "cities_temp = cities_temp.rename(columns={'mean': 'temperature'})\n",
    "cities_temp.index.name = 'city'\n",
    "cities_temp.reset_index()"
   ]
  },
  {
   "cell_type": "code",
   "execution_count": null,
   "id": "fd8c8009",
   "metadata": {
    "id": "fd8c8009"
   },
   "outputs": [],
   "source": [
    "us_data = gpd.GeoDataFrame(water_us.merge(us_county, on='county', how='inner'))"
   ]
  },
  {
   "cell_type": "code",
   "execution_count": null,
   "id": "2550a8bf",
   "metadata": {
    "id": "2550a8bf"
   },
   "outputs": [],
   "source": [
    "data2 = pd.merge(data, cities_temp, on='state_id', how='outer')\n",
    "data"
   ]
  },
  {
   "cell_type": "code",
   "execution_count": null,
   "id": "ce0a36fc",
   "metadata": {
    "id": "ce0a36fc"
   },
   "outputs": [],
   "source": [
    "us_states = us_data.dissolve(by='state')"
   ]
  },
  {
   "cell_type": "code",
   "execution_count": null,
   "id": "f224adc7",
   "metadata": {
    "id": "f224adc7"
   },
   "outputs": [],
   "source": [
    "us_states.set_index('statefips_x')\n",
    "us_states.head(2)"
   ]
  },
  {
   "cell_type": "code",
   "execution_count": null,
   "id": "3337ee9b",
   "metadata": {
    "id": "3337ee9b"
   },
   "outputs": [],
   "source": [
    "#us2 = gpd.overlay(us_states, us_county, how= 'intersection')\n",
    "#us2.plot(edgecol)"
   ]
  },
  {
   "cell_type": "code",
   "execution_count": null,
   "id": "d1265fb7",
   "metadata": {
    "id": "d1265fb7"
   },
   "outputs": [],
   "source": [
    "us_states.plot(column='population', cmap='Reds')\n",
    "\n",
    "fig = plt.figure(1, figsize=(25,15)) \n",
    "ax = fig.add_subplot()\n",
    "\n",
    "plt.title('US Map')\n",
    "#for x, y, label in zip(us_states.geometry.centroid.x, us_states.geometry.centroid.y, us_states['state']):\n",
    "   # plt.annotate(label, xy= (x, y), xytext=(3,3), textcoords='offset points')\n",
    "    \n",
    "plt.show()"
   ]
  },
  {
   "cell_type": "markdown",
   "id": "bf8d8aef",
   "metadata": {
    "id": "bf8d8aef"
   },
   "source": [
    "# ## Later use"
   ]
  },
  {
   "cell_type": "code",
   "execution_count": null,
   "id": "7683157b",
   "metadata": {
    "id": "7683157b"
   },
   "outputs": [],
   "source": [
    "state_dict = {'AL': 'Alabama', 'AZ':'Arizona', 'AR':'Arkansas', 'AS':'AmericanSamoa', 'CA':'California', 'CO':'Colorado', 'CT':'Connecticut', 'DE':'Delaware', 'DC':'DistrictofColumbia', 'FL':'Florida', \n",
    "'GA':'Georgia', 'GU':'Guam', 'HI':'Hawaii', 'ID':'Idaho', 'IL':'Illinois', 'IN':'Indiana', 'IA':'Iowa', 'KS':'Kansas', 'KY':'Kentucky', 'LA':'Louisiana', 'ME':'Maine',  \n",
    "'MD':'Maryland', 'MA':'Massachusetts', 'MI':'Michigan',  'MN':'Minnesota',  'MS':'Mississippi', 'MO':'Missouri', 'MT':'Montana', 'NE':'Nebraska', 'NV':'Nevada',  \n",
    "'NH':'NewHampshire', 'NJ':'NewJersey', 'NM':'NewMexico', 'NY':'NewYork', 'NC':'NorthCarolina', 'ND':'NorthDakota', 'MP':'NorthernMarianaIslands', 'OH':'Ohio','OK':'Oklahoma', \n",
    "'OR':'Oregon',  'PA':'Pennsylvania', 'PR':'PuertoRico', 'RI':'RhodeIsland', 'SC':'SouthCarolina', 'SD':'SouthDakota', 'TN':'Tennessee', 'TX':'Texas', 'TT':'TrustTerritories', \n",
    "'UT':'Utah', 'VT':'Vermont', 'VA':'Virginia', 'VI':'VirginIslands', 'WA':'Washington', 'WV':'WestVirginia', 'WI':'Wisconsin', 'WY':'Wyoming'}"
   ]
  },
  {
   "cell_type": "code",
   "execution_count": null,
   "id": "61b2041a",
   "metadata": {
    "id": "61b2041a"
   },
   "outputs": [],
   "source": [
    "'''\n",
    "us_data = us_data.replace({'state': state_dict})\n",
    "us_county['county'].isin(water_us['county']).value_counts()\n",
    "us_county.county.sort_values().unique().tolist()\n",
    "'''"
   ]
  },
  {
   "cell_type": "code",
   "execution_count": null,
   "id": "9eb38a68",
   "metadata": {
    "id": "9eb38a68"
   },
   "outputs": [],
   "source": [
    "us_data.to_crs(crs=4326)"
   ]
  },
  {
   "cell_type": "code",
   "execution_count": null,
   "id": "a8b3e011",
   "metadata": {
    "id": "a8b3e011"
   },
   "outputs": [],
   "source": [
    "fig = plt.figure(1, figsize=(25,15)) \n",
    "ax = fig.add_subplot()\n",
    "ax.annotate(s=us_data['state'], xy=us_data.geometry.centroid, xytext=us_data['state'], ha='center', fontsize=14)\n",
    "\n",
    "#us_data.apply(lambda x: ax.annotate(s=x.state, xy=x.geometry.centroid.coords[0], \n",
    "                                 #   text=(us_data['state']), ha='center', fontsize=14),axis=1);\n",
    "us_data.boundary.plot(ax=ax, color='Black', linewidth=.4)\n",
    "us_data.plot(ax=ax, cmap='Pastel2', figsize=(12, 12))\n",
    "ax.text(-0.05, 0.5, 'https://jcutrer.com', transform=ax.transAxes,\n",
    "        fontsize=20, color='gray', alpha=0.5,\n",
    "        ha='center', va='center', rotation='90')"
   ]
  },
  {
   "cell_type": "code",
   "execution_count": null,
   "id": "494f8bb5",
   "metadata": {
    "id": "494f8bb5"
   },
   "outputs": [],
   "source": [
    "us_data.plot()\n",
    "\n",
    "fig = plt.figure(1, figsize=(25,15)) \n",
    "ax = fig.add_subplot()\n",
    "\n",
    "plt.title('US Map')\n",
    "for x, y, label in zip(us_data.geometry.centroid.x,us_data.geometry.centroid.y, us_data['state']):\n",
    "    plt.annotate(label, xy= (x, y), xytext=(3,3), textcoords='offset points')\n",
    "    \n",
    "plt.show()"
   ]
  },
  {
   "cell_type": "code",
   "execution_count": null,
   "id": "9bbcb553",
   "metadata": {
    "id": "9bbcb553"
   },
   "outputs": [],
   "source": [
    "\n",
    "from mpl_toolkits.axes_grid1 import make_axes_locatable\n",
    "  \n",
    "  \n",
    "fig, ax = plt.subplots(1, figsize =(16, 8),\n",
    "                       facecolor ='lightblue')\n",
    "  \n",
    "us_data.plot(ax = ax, color ='black')\n",
    "us_data.plot(ax = ax, column ='tp-totpop', cmap ='Reds',\n",
    "           edgecolors ='grey')\n",
    "  \n",
    "# axis for the color bar\n",
    "div = make_axes_locatable(ax)\n",
    "cax = div.append_axes(\"right\", size =\"3 %\", pad = 0.05)\n",
    "  \n",
    "# color bar\n",
    "vmax = us_data.tp-totpop.max()\n",
    "mappable = plt.cm.ScalarMappable(cmap ='Reds',\n",
    "                                 norm = plt.Normalize(vmin = 0, vmax = vmax))\n",
    "cbar = fig.colorbar(mappable, cax)\n",
    "  \n",
    "ax.axis('off')\n",
    "plt.show()"
   ]
  },
  {
   "cell_type": "code",
   "execution_count": null,
   "id": "821e39e3",
   "metadata": {
    "id": "821e39e3"
   },
   "outputs": [],
   "source": [
    "import dtale"
   ]
  },
  {
   "cell_type": "code",
   "execution_count": null,
   "id": "7f11b062",
   "metadata": {
    "id": "7f11b062"
   },
   "outputs": [],
   "source": [
    "d = dtale.show(water_us)\n",
    "d"
   ]
  },
  {
   "cell_type": "code",
   "execution_count": null,
   "id": "302e83ee",
   "metadata": {
    "id": "302e83ee"
   },
   "outputs": [],
   "source": [
    "state_data2 = pd.read_csv('C:/Users/ASUS/Documents/Spatial Learning/state2.csv', header=2)"
   ]
  },
  {
   "cell_type": "code",
   "execution_count": null,
   "id": "9be56af0",
   "metadata": {
    "id": "9be56af0"
   },
   "outputs": [],
   "source": [
    "state_data2 = state_data2.rename(columns={'State': 'state'})\n",
    "#state_data.to_csv('state2.csv')"
   ]
  },
  {
   "cell_type": "code",
   "execution_count": null,
   "id": "d5012bf1",
   "metadata": {
    "id": "d5012bf1"
   },
   "outputs": [],
   "source": [
    "#state_data2 = state_data2[['StateLab', 'state']]\n",
    "state_data2 = state_data2.drop(state_data2.iloc[:, 0:1], axis =1)\n",
    "state_data2.dtypes"
   ]
  },
  {
   "cell_type": "code",
   "execution_count": null,
   "id": "f60777df",
   "metadata": {
    "id": "f60777df"
   },
   "outputs": [],
   "source": [
    "state_data2.values"
   ]
  },
  {
   "cell_type": "code",
   "execution_count": null,
   "id": "59eeb99c",
   "metadata": {
    "id": "59eeb99c"
   },
   "outputs": [],
   "source": [
    "def replacerlist[]:\n",
    "    if text in column = replacee:\n",
    "        column.replace(replacerlist)\n",
    "    else:\n",
    "        print('no list')"
   ]
  },
  {
   "cell_type": "code",
   "execution_count": null,
   "id": "3cc5c4d2",
   "metadata": {
    "id": "3cc5c4d2"
   },
   "outputs": [],
   "source": [
    "statedict = {'Alabama': 'AL', 'Alaska': 'AK', 'Arizona': 'AZ', 'Arkansas': 'AR', 'American Samoa': 'AS', 'California': 'CA', 'Colorado': 'CO', 'Connecticut': 'CT', 'Delaware': 'DE', 'District of Columbia': 'DC', 'Florida': 'FL',\n",
    "'Georgia': 'GA', 'Guam': 'GU', 'Hawaii': 'HI', 'Idaho': 'ID', 'Illinois': 'IL', 'Indiana': 'IN', 'Iowa': 'IA', 'Kansas': 'KS', 'Kentucky': 'KY', 'Louisiana': 'LA', 'Maine': 'ME', 'Maryland': 'MD', 'Massachusetts': 'MA',\n",
    "'Michigan': 'MI', 'Minnesota': 'MN', 'Mississippi': 'MS', 'Missouri': 'MO', 'Montana': 'MT', 'Nebraska': 'NE', 'Nevada': 'NV', 'New Hampshire': 'NH', 'New Jersey': 'NJ', 'New Mexico': 'NM', 'New York': 'NY',\n",
    "'North Carolina': 'NC', 'North Dakota': 'ND', 'Northern Mariana Islands': 'MP', 'Ohio': 'OH', 'Oklahoma': 'OK', 'Oregon': 'OR', 'Pennsylvania': 'PA', 'Puerto Rico': 'PR', 'Rhode Island': 'RI', 'South Carolina': 'SC', \n",
    "'South Dakota': 'SD', 'Tennessee': 'TN', 'Texas': 'TX', 'Trust Territories': 'TT', 'Utah': 'UT', 'Vermont': 'VT', 'Virginia': 'VA', 'Virgin Islands': 'VI', 'Washington': 'WA', 'West Virginia': 'WV', 'Wisconsin': 'WI', \n",
    "'Wyoming': 'WY'}"
   ]
  }
 ],
 "metadata": {
  "colab": {
   "provenance": []
  },
  "kernelspec": {
   "display_name": "Python 3 (ipykernel)",
   "language": "python",
   "name": "python3"
  },
  "language_info": {
   "codemirror_mode": {
    "name": "ipython",
    "version": 3
   },
   "file_extension": ".py",
   "mimetype": "text/x-python",
   "name": "python",
   "nbconvert_exporter": "python",
   "pygments_lexer": "ipython3",
   "version": "3.9.13"
  }
 },
 "nbformat": 4,
 "nbformat_minor": 5
}
